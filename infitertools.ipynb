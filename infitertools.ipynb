{
 "cells": [
  {
   "cell_type": "code",
   "execution_count": null,
   "metadata": {},
   "outputs": [],
   "source": [
    "import numpy\n",
    "import itertools\n",
    "\n",
    "\n",
    "def _generate_indices(l, n): # should take list of max indices to avoid returning ignored values\n",
    "    for total in range(n):\n",
    "        indices = [0] * l\n",
    "        indices[0] = total\n",
    "        yield(indices)\n",
    "        while indices[l - 1] != total:\n",
    "            for i in range(l - 1):\n",
    "                if indices[i] > 0:\n",
    "                    indices[i] -= 1\n",
    "                    indices[i + 1] += 1\n",
    "                    yield(indices)\n",
    "                    break\n",
    "\n",
    "\"\"\"\n",
    "    Safe cartesian product of possibly infinite input iterables,\n",
    "    that guarantees that every possible tuple in the product\n",
    "    will sooner or later be generated.\n",
    "    \n",
    "    s_product('ABC', 'xy') -> Ax Bx Ay Cx By Cy\n",
    "\"\"\"\n",
    "def s_product(*args):\n",
    "    ls = list(map(len, args))\n",
    "    for indices in _generate_indices(len(args), sum(ls) + len(ls)):\n",
    "        if all(map(lambda x : x[0] - 1 >= x[1], zip(ls, indices))): # not optimal\n",
    "            yield([args[x][indices[x]] for x in range(len(args))])\n",
    "\n",
    "\"\"\"\n",
    "    Return r length subsequences of elements from the input iterable allowing\n",
    "    individual elements to be repeated more than once. It is safe to use for infinite lists.\n",
    "\"\"\"\n",
    "def s_combinations_with_replacement(iterable, r):\n",
    "    for s in s_product(*[iterable for i in range(r)]):\n",
    "        yield(s)"
   ]
  },
  {
   "cell_type": "code",
   "execution_count": null,
   "metadata": {},
   "outputs": [],
   "source": [
    "for i in s_product('ABC', 'xy'):\n",
    "    print(i)"
   ]
  },
  {
   "cell_type": "code",
   "execution_count": null,
   "metadata": {},
   "outputs": [],
   "source": [
    "for i in s_combinations_with_replacement('ABCD', 2):\n",
    "    print(i)"
   ]
  }
 ],
 "metadata": {
  "kernelspec": {
   "display_name": "Python 3",
   "language": "python",
   "name": "python3"
  },
  "language_info": {
   "codemirror_mode": {
    "name": "ipython",
    "version": 3
   },
   "file_extension": ".py",
   "mimetype": "text/x-python",
   "name": "python",
   "nbconvert_exporter": "python",
   "pygments_lexer": "ipython3",
   "version": "3.6.8"
  }
 },
 "nbformat": 4,
 "nbformat_minor": 2
}
