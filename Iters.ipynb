{
 "cells": [
  {
   "cell_type": "code",
   "execution_count": 36,
   "metadata": {},
   "outputs": [],
   "source": [
    "import numpy\n",
    "import itertools\n",
    "\n",
    "\n",
    "def _generate_indices(l, n): # should take list of max indices to avoid returning ignored values\n",
    "    for total in range(n):\n",
    "        indices = [0] * l\n",
    "        indices[0] = total\n",
    "        yield(indices)\n",
    "        while indices[l - 1] != total:\n",
    "            for i in range(l - 1):\n",
    "                if indices[i] > 0:\n",
    "                    indices[i] -= 1\n",
    "                    indices[i + 1] += 1\n",
    "                    yield(indices)\n",
    "                    break\n",
    "\n",
    "\"\"\"\n",
    "    Cartesian product of possibly infinite input iterables,\n",
    "    that guarantees that every possible tuple in the product\n",
    "    will sooner or later be generated.\n",
    "    \n",
    "    sproduct('ABC', 'xy') -> Ax Bx Ay Cx By Cy\n",
    "\"\"\"\n",
    "def sproduct(*args):\n",
    "    ls = list(map(len, args))\n",
    "    for indices in _generate_indices(len(args), sum(ls) + len(ls)):\n",
    "        if all(map(lambda x : x[0] - 1 >= x[1], zip(ls, indices))): # not optimal\n",
    "            yield([args[x][indices[x]] for x in range(len(args))])\n",
    "        "
   ]
  },
  {
   "cell_type": "code",
   "execution_count": 37,
   "metadata": {},
   "outputs": [
    {
     "name": "stdout",
     "output_type": "stream",
     "text": [
      "Ax\n",
      "Bx\n",
      "Ay\n",
      "Cx\n",
      "By\n",
      "Cy\n"
     ]
    }
   ],
   "source": [
    "for i in sproduct('ABC', 'xy'):\n",
    "    print(\"{}{}\".format(i[0], i[1]))"
   ]
  },
  {
   "cell_type": "code",
   "execution_count": null,
   "metadata": {},
   "outputs": [],
   "source": []
  }
 ],
 "metadata": {
  "kernelspec": {
   "display_name": "Python 3",
   "language": "python",
   "name": "python3"
  }
 },
 "nbformat": 4,
 "nbformat_minor": 2
}
